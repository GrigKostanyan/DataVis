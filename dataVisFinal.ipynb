{
 "cells": [
  {
   "cell_type": "code",
   "execution_count": 65,
   "id": "e0bbe551",
   "metadata": {
    "pycharm": {
     "name": "#%%\n"
    }
   },
   "outputs": [],
   "source": [
    "import pandas as pd\n",
    "import numpy as np\n",
    "import seaborn as sns\n",
    "import matplotlib.pyplot as plt\n",
    "\n",
    "df = pd.read_csv(\"tournaments_1877-2017_unindexed.csv\")\n",
    "df.columns.str.startswith('doubles')\n",
    "df = df.loc[:,~df.columns.str.startswith('doubles')]"
   ]
  },
  {
   "cell_type": "code",
   "execution_count": 49,
   "id": "e7901699",
   "metadata": {
    "pycharm": {
     "name": "#%%\n"
    }
   },
   "outputs": [
    {
     "data": {
      "text/html": [
       "<div>\n",
       "<style scoped>\n",
       "    .dataframe tbody tr th:only-of-type {\n",
       "        vertical-align: middle;\n",
       "    }\n",
       "\n",
       "    .dataframe tbody tr th {\n",
       "        vertical-align: top;\n",
       "    }\n",
       "\n",
       "    .dataframe thead th {\n",
       "        text-align: right;\n",
       "    }\n",
       "</style>\n",
       "<table border=\"1\" class=\"dataframe\">\n",
       "  <thead>\n",
       "    <tr style=\"text-align: right;\">\n",
       "      <th></th>\n",
       "      <th>tourney_year</th>\n",
       "      <th>tourney_order</th>\n",
       "      <th>tourney_name</th>\n",
       "      <th>tourney_id</th>\n",
       "      <th>tourney_slug</th>\n",
       "      <th>tourney_location</th>\n",
       "      <th>tourney_dates</th>\n",
       "      <th>tourney_month</th>\n",
       "      <th>tourney_day</th>\n",
       "      <th>tourney_singles_draw</th>\n",
       "      <th>tourney_doubles_draw</th>\n",
       "      <th>tourney_conditions</th>\n",
       "      <th>tourney_surface</th>\n",
       "      <th>tourney_fin_commit</th>\n",
       "      <th>tourney_url_suffix</th>\n",
       "      <th>singles_winner_name</th>\n",
       "      <th>singles_winner_url</th>\n",
       "      <th>singles_winner_player_slug</th>\n",
       "      <th>singles_winner_player_id</th>\n",
       "      <th>tourney_year_id</th>\n",
       "    </tr>\n",
       "  </thead>\n",
       "  <tbody>\n",
       "    <tr>\n",
       "      <th>0</th>\n",
       "      <td>1877</td>\n",
       "      <td>1</td>\n",
       "      <td>Wimbledon</td>\n",
       "      <td>540.0</td>\n",
       "      <td>wimbledon</td>\n",
       "      <td>London, Great Britain</td>\n",
       "      <td>1877.07.09</td>\n",
       "      <td>7.0</td>\n",
       "      <td>9.0</td>\n",
       "      <td>32</td>\n",
       "      <td>32</td>\n",
       "      <td>Outdoor</td>\n",
       "      <td>Grass</td>\n",
       "      <td>NaN</td>\n",
       "      <td>/en/scores/archive/wimbledon/540/1877/results</td>\n",
       "      <td>Spencer Gore</td>\n",
       "      <td>/en/players/spencer-gore/gi91/overview</td>\n",
       "      <td>spencer-gore</td>\n",
       "      <td>gi91</td>\n",
       "      <td>1877-540</td>\n",
       "    </tr>\n",
       "    <tr>\n",
       "      <th>1</th>\n",
       "      <td>1878</td>\n",
       "      <td>1</td>\n",
       "      <td>Wimbledon</td>\n",
       "      <td>540.0</td>\n",
       "      <td>wimbledon</td>\n",
       "      <td>London, Great Britain</td>\n",
       "      <td>1878.07.08</td>\n",
       "      <td>7.0</td>\n",
       "      <td>8.0</td>\n",
       "      <td>64</td>\n",
       "      <td>64</td>\n",
       "      <td>Outdoor</td>\n",
       "      <td>Grass</td>\n",
       "      <td>NaN</td>\n",
       "      <td>/en/scores/archive/wimbledon/540/1878/results</td>\n",
       "      <td>Frank Hadow</td>\n",
       "      <td>/en/players/frank-hadow/hg50/overview</td>\n",
       "      <td>frank-hadow</td>\n",
       "      <td>hg50</td>\n",
       "      <td>1878-540</td>\n",
       "    </tr>\n",
       "    <tr>\n",
       "      <th>2</th>\n",
       "      <td>1879</td>\n",
       "      <td>1</td>\n",
       "      <td>Wimbledon</td>\n",
       "      <td>540.0</td>\n",
       "      <td>wimbledon</td>\n",
       "      <td>London, Great Britain</td>\n",
       "      <td>1879.07.07</td>\n",
       "      <td>7.0</td>\n",
       "      <td>7.0</td>\n",
       "      <td>64</td>\n",
       "      <td>64</td>\n",
       "      <td>Outdoor</td>\n",
       "      <td>Grass</td>\n",
       "      <td>NaN</td>\n",
       "      <td>/en/scores/archive/wimbledon/540/1879/results</td>\n",
       "      <td>John Hartley</td>\n",
       "      <td>/en/players/john-hartley/hg35/overview</td>\n",
       "      <td>john-hartley</td>\n",
       "      <td>hg35</td>\n",
       "      <td>1879-540</td>\n",
       "    </tr>\n",
       "    <tr>\n",
       "      <th>3</th>\n",
       "      <td>1880</td>\n",
       "      <td>1</td>\n",
       "      <td>Wimbledon</td>\n",
       "      <td>540.0</td>\n",
       "      <td>wimbledon</td>\n",
       "      <td>London, Great Britain</td>\n",
       "      <td>1880.07.05</td>\n",
       "      <td>7.0</td>\n",
       "      <td>5.0</td>\n",
       "      <td>64</td>\n",
       "      <td>64</td>\n",
       "      <td>Outdoor</td>\n",
       "      <td>Grass</td>\n",
       "      <td>NaN</td>\n",
       "      <td>/en/scores/archive/wimbledon/540/1880/results</td>\n",
       "      <td>John Hartley</td>\n",
       "      <td>/en/players/john-hartley/hg35/overview</td>\n",
       "      <td>john-hartley</td>\n",
       "      <td>hg35</td>\n",
       "      <td>1880-540</td>\n",
       "    </tr>\n",
       "    <tr>\n",
       "      <th>4</th>\n",
       "      <td>1881</td>\n",
       "      <td>1</td>\n",
       "      <td>Wimbledon</td>\n",
       "      <td>540.0</td>\n",
       "      <td>wimbledon</td>\n",
       "      <td>London, Great Britain</td>\n",
       "      <td>1881.07.02</td>\n",
       "      <td>7.0</td>\n",
       "      <td>2.0</td>\n",
       "      <td>64</td>\n",
       "      <td>64</td>\n",
       "      <td>Outdoor</td>\n",
       "      <td>Grass</td>\n",
       "      <td>NaN</td>\n",
       "      <td>/en/scores/archive/wimbledon/540/1881/results</td>\n",
       "      <td>William Renshaw</td>\n",
       "      <td>/en/players/william-renshaw/rg71/overview</td>\n",
       "      <td>william-renshaw</td>\n",
       "      <td>rg71</td>\n",
       "      <td>1881-540</td>\n",
       "    </tr>\n",
       "  </tbody>\n",
       "</table>\n",
       "</div>"
      ],
      "text/plain": [
       "   tourney_year  tourney_order tourney_name  tourney_id tourney_slug  \\\n",
       "0          1877              1    Wimbledon       540.0    wimbledon   \n",
       "1          1878              1    Wimbledon       540.0    wimbledon   \n",
       "2          1879              1    Wimbledon       540.0    wimbledon   \n",
       "3          1880              1    Wimbledon       540.0    wimbledon   \n",
       "4          1881              1    Wimbledon       540.0    wimbledon   \n",
       "\n",
       "        tourney_location tourney_dates  tourney_month  tourney_day  \\\n",
       "0  London, Great Britain    1877.07.09            7.0          9.0   \n",
       "1  London, Great Britain    1878.07.08            7.0          8.0   \n",
       "2  London, Great Britain    1879.07.07            7.0          7.0   \n",
       "3  London, Great Britain    1880.07.05            7.0          5.0   \n",
       "4  London, Great Britain    1881.07.02            7.0          2.0   \n",
       "\n",
       "   tourney_singles_draw  tourney_doubles_draw tourney_conditions  \\\n",
       "0                    32                    32            Outdoor   \n",
       "1                    64                    64            Outdoor   \n",
       "2                    64                    64            Outdoor   \n",
       "3                    64                    64            Outdoor   \n",
       "4                    64                    64            Outdoor   \n",
       "\n",
       "  tourney_surface tourney_fin_commit  \\\n",
       "0           Grass                NaN   \n",
       "1           Grass                NaN   \n",
       "2           Grass                NaN   \n",
       "3           Grass                NaN   \n",
       "4           Grass                NaN   \n",
       "\n",
       "                              tourney_url_suffix singles_winner_name  \\\n",
       "0  /en/scores/archive/wimbledon/540/1877/results        Spencer Gore   \n",
       "1  /en/scores/archive/wimbledon/540/1878/results         Frank Hadow   \n",
       "2  /en/scores/archive/wimbledon/540/1879/results        John Hartley   \n",
       "3  /en/scores/archive/wimbledon/540/1880/results        John Hartley   \n",
       "4  /en/scores/archive/wimbledon/540/1881/results     William Renshaw   \n",
       "\n",
       "                          singles_winner_url singles_winner_player_slug  \\\n",
       "0     /en/players/spencer-gore/gi91/overview               spencer-gore   \n",
       "1      /en/players/frank-hadow/hg50/overview                frank-hadow   \n",
       "2     /en/players/john-hartley/hg35/overview               john-hartley   \n",
       "3     /en/players/john-hartley/hg35/overview               john-hartley   \n",
       "4  /en/players/william-renshaw/rg71/overview            william-renshaw   \n",
       "\n",
       "  singles_winner_player_id tourney_year_id  \n",
       "0                     gi91        1877-540  \n",
       "1                     hg50        1878-540  \n",
       "2                     hg35        1879-540  \n",
       "3                     hg35        1880-540  \n",
       "4                     rg71        1881-540  "
      ]
     },
     "execution_count": 49,
     "metadata": {},
     "output_type": "execute_result"
    }
   ],
   "source": [
    "df.head()"
   ]
  },
  {
   "cell_type": "code",
   "execution_count": 50,
   "id": "fb4948be",
   "metadata": {
    "pycharm": {
     "name": "#%%\n"
    }
   },
   "outputs": [
    {
     "name": "stdout",
     "output_type": "stream",
     "text": [
      "1877 : Spencer Gore\n",
      "1878 : Frank Hadow\n",
      "1879 : John Hartley\n",
      "1880 : John Hartley\n",
      "1881 : William Renshaw\n",
      "1882 : William Renshaw\n",
      "1883 : William Renshaw\n",
      "1884 : William Renshaw\n",
      "1885 : William Renshaw\n",
      "1886 : William Renshaw\n",
      "1887 : Herbert Lawford\n",
      "1888 : Ernest Renshaw\n",
      "1889 : William Renshaw\n",
      "1890 : Willoughby Hamilton\n",
      "1891 : Wilfred Baddeley\n",
      "1892 : Wilfred Baddeley\n",
      "1893 : Joshua Pim\n",
      "1894 : Joshua Pim\n",
      "1895 : Wilfred Baddeley\n",
      "1896 : Harold Mahony\n",
      "1897 : Reggie Doherty\n",
      "1898 : Reggie Doherty\n",
      "1899 : Reggie Doherty\n",
      "1900 : Reggie Doherty\n",
      "1901 : Arthur Gore\n",
      "1902 : Laurence Doherty\n",
      "1903 : Laurence Doherty\n",
      "1904 : Laurence Doherty\n",
      "1905 : Laurence Doherty\n",
      "1906 : Laurence Doherty\n",
      "1907 : Norman Brookes\n",
      "1908 : Arthur Gore\n",
      "1909 : Arthur Gore\n",
      "1910 : Rodney Heath\n",
      "1911 : Tony Wilding\n",
      "1912 : Tony Wilding\n",
      "1913 : Tony Wilding\n",
      "1914 : Norman Brookes\n",
      "1915 : Gordon Lowe\n",
      "1916 : Richard Norris Williams\n",
      "1917 : Lindley Murray\n",
      "1918 : Lindley Murray\n",
      "1919 : Gerald Patterson\n",
      "1920 : Bill Tilden\n",
      "1921 : Brian Norton\n",
      "1922 : Gerald Patterson\n",
      "1923 : Bill Johnston\n",
      "1924 : James Anderson\n",
      "1925 : Rene Lacoste\n",
      "1926 : John Hawkes\n",
      "1927 : Rene Lacoste\n",
      "1928 : Henri Cochet\n",
      "1929 : John Colin Gregory\n",
      "1930 : Edgar Moon\n",
      "1931 : Jack Crawford\n",
      "1932 : Ellsworth Vines\n",
      "1933 : Jack Crawford\n",
      "1934 : Fred Perry\n",
      "1935 : Fred Perry\n",
      "1936 : Fred Perry\n",
      "1937 : Don Budge\n",
      "1938 : Don Budge\n",
      "1939 : Bobby Riggs\n",
      "1940 : Adrian Quist\n",
      "1941 : Bobby Riggs\n",
      "1942 : Frederick \"Ted\" Schroeder\n",
      "1943 : Joseph Hunt\n",
      "1944 : Frank Parker\n",
      "1945 : Frank Parker\n",
      "1946 : John Bromwich\n",
      "1947 : Jack Kramer\n",
      "1948 : Adrian Quist\n",
      "1949 : Frank Sedgman\n",
      "1950 : Budge Patty\n",
      "1951 : Dick Savitt\n",
      "1952 : Frank Sedgman\n",
      "1953 : Ken Rosewall\n",
      "1954 : Mervyn Rose\n",
      "1955 : Tony Trabert\n",
      "1956 : Lew Hoad\n",
      "1957 : Ashley Cooper\n",
      "1958 : Ashley Cooper\n",
      "1959 : Alejandro Olmedo\n",
      "1960 : Neale Fraser\n",
      "1961 : Roy Emerson\n",
      "1962 : Rod Laver\n",
      "1963 : Roy Emerson\n",
      "1964 : Roy Emerson\n",
      "1965 : Roy Emerson\n",
      "1966 : Roy Emerson\n",
      "1967 : Roy Emerson\n",
      "1968 : Rod Laver\n",
      "1969 : Rod Laver\n",
      "1970 : Rod Laver\n",
      "1971 : Ilie Nastase\n",
      "1972 : Ilie Nastase\n",
      "1973 : Ilie Nastase\n",
      "1974 : Jimmy Connors\n",
      "1975 : Jimmy Connors\n",
      "1976 : Jimmy Connors\n",
      "1977 : Guillermo Vilas\n",
      "1978 : Jimmy Connors\n",
      "1979 : Bjorn Borg\n",
      "1980 : John McEnroe\n",
      "1981 : John McEnroe\n",
      "1982 : Ivan Lendl\n",
      "1983 : Mats Wilander\n",
      "1984 : John McEnroe\n",
      "1985 : Ivan Lendl\n",
      "1986 : Ivan Lendl\n",
      "1987 : Ivan Lendl\n",
      "1988 : Boris Becker\n",
      "1989 : Ivan Lendl\n",
      "1990 : Stefan Edberg\n",
      "1991 : Stefan Edberg\n",
      "1992 : Jim Courier\n",
      "1993 : Pete Sampras\n",
      "1994 : Pete Sampras\n",
      "1995 : Thomas Muster\n",
      "1996 : Pete Sampras\n",
      "1997 : Pete Sampras\n",
      "1998 : Marcelo Rios\n",
      "1999 : Magnus Norman\n",
      "2000 : Marat Safin\n",
      "2001 : Lleyton Hewitt\n",
      "2002 : Lleyton Hewitt\n",
      "2003 : Roger Federer\n",
      "2004 : Roger Federer\n",
      "2005 : Rafael Nadal\n",
      "2006 : Roger Federer\n",
      "2007 : Roger Federer\n",
      "2008 : Rafael Nadal\n",
      "2009 : Andy Murray\n",
      "2010 : Rafael Nadal\n",
      "2011 : Novak Djokovic\n",
      "2012 : David Ferrer\n",
      "2013 : Rafael Nadal\n",
      "2014 : Novak Djokovic\n",
      "2015 : Novak Djokovic\n",
      "2016 : Andy Murray\n",
      "2017 : Roger Federer\n"
     ]
    }
   ],
   "source": [
    "#Best player of each year\n",
    "for year in range(1877, 2018):\n",
    "    df_y = df[df.tourney_year == year]\n",
    "    a = df_y['singles_winner_name'].value_counts().idxmax()\n",
    "    print(year, \":\", a)"
   ]
  },
  {
   "cell_type": "code",
   "execution_count": 51,
   "id": "004cd288",
   "metadata": {
    "pycharm": {
     "name": "#%%\n"
    }
   },
   "outputs": [
    {
     "name": "stdout",
     "output_type": "stream",
     "text": [
      "Wimbledon           131\n",
      "US Championships     87\n",
      "US Open              50\n",
      "Roland Garros        50\n",
      "Barcelona            49\n",
      "                   ... \n",
      "Fort Worth            1\n",
      "Quebec                1\n",
      "Aptos                 1\n",
      "Brussels WCT          1\n",
      "Nitto ATP Finals      1\n",
      "Name: tourney_name, Length: 516, dtype: int64\n"
     ]
    }
   ],
   "source": [
    "#The tournaments\n",
    "counts = df.tourney_name.value_counts()\n",
    "print(counts)"
   ]
  },
  {
   "cell_type": "code",
   "execution_count": 52,
   "id": "db8f5740",
   "metadata": {
    "pycharm": {
     "name": "#%%\n"
    }
   },
   "outputs": [
    {
     "name": "stdout",
     "output_type": "stream",
     "text": [
      "Roger Federer      19\n",
      "Rafael Nadal       16\n",
      "Pete Sampras       14\n",
      "Novak Djokovic     12\n",
      "Bjorn Borg         11\n",
      "                   ..\n",
      "Andres Gimeno       1\n",
      "Manuel Orantes      1\n",
      "Mark Edmondson      1\n",
      "Adriano Panatta     1\n",
      "Marin Cilic         1\n",
      "Name: singles_winner_name, Length: 98, dtype: int64\n"
     ]
    }
   ],
   "source": [
    "#Grand slam champions\n",
    "df_gs = df.loc[df['tourney_name'].isin(['Wimbledon', 'Roland Garros', 'US Open', 'Australian Open'])]\n",
    "counts = df_gs.singles_winner_name.value_counts()\n",
    "print(counts)"
   ]
  },
  {
   "cell_type": "code",
   "execution_count": 58,
   "id": "32c9ecee",
   "metadata": {
    "pycharm": {
     "name": "#%%\n"
    }
   },
   "outputs": [
    {
     "data": {
      "text/html": [
       "<div>\n",
       "<style scoped>\n",
       "    .dataframe tbody tr th:only-of-type {\n",
       "        vertical-align: middle;\n",
       "    }\n",
       "\n",
       "    .dataframe tbody tr th {\n",
       "        vertical-align: top;\n",
       "    }\n",
       "\n",
       "    .dataframe thead th {\n",
       "        text-align: right;\n",
       "    }\n",
       "</style>\n",
       "<table border=\"1\" class=\"dataframe\">\n",
       "  <thead>\n",
       "    <tr style=\"text-align: right;\">\n",
       "      <th></th>\n",
       "      <th>name</th>\n",
       "      <th>hard</th>\n",
       "      <th>clay</th>\n",
       "      <th>grass</th>\n",
       "    </tr>\n",
       "  </thead>\n",
       "  <tbody>\n",
       "    <tr>\n",
       "      <th>0</th>\n",
       "      <td>Roger Federer</td>\n",
       "      <td>65</td>\n",
       "      <td>11</td>\n",
       "      <td>17</td>\n",
       "    </tr>\n",
       "    <tr>\n",
       "      <th>1</th>\n",
       "      <td>Rafael Nadal</td>\n",
       "      <td>18</td>\n",
       "      <td>53</td>\n",
       "      <td>4</td>\n",
       "    </tr>\n",
       "    <tr>\n",
       "      <th>2</th>\n",
       "      <td>Novak Djokovic</td>\n",
       "      <td>51</td>\n",
       "      <td>13</td>\n",
       "      <td>4</td>\n",
       "    </tr>\n",
       "  </tbody>\n",
       "</table>\n",
       "</div>"
      ],
      "text/plain": [
       "             name hard clay grass\n",
       "0   Roger Federer   65   11    17\n",
       "1    Rafael Nadal   18   53     4\n",
       "2  Novak Djokovic   51   13     4"
      ]
     },
     "execution_count": 58,
     "metadata": {},
     "output_type": "execute_result"
    }
   ],
   "source": [
    "column_names = ['name', 'hard', 'clay', 'grass']\n",
    "df_bar = pd.DataFrame(columns = column_names)\n",
    "\n",
    "for name in ['Roger Federer', 'Rafael Nadal', 'Novak Djokovic']:\n",
    "    df_temp = df.loc[df['singles_winner_name']==name]\n",
    "    \n",
    "    clay = (df_temp['tourney_surface']=='Hard').sum()\n",
    "    grass = (df_temp['tourney_surface']=='Clay').sum()\n",
    "    hard = (df_temp['tourney_surface']=='Grass').sum()\n",
    "    \n",
    "    df_bar.loc[len(df_bar.index)] = [name, clay, grass, hard]\n",
    "\n",
    "df_bar.head()"
   ]
  },
  {
   "cell_type": "code",
   "execution_count": 59,
   "id": "7819b27d",
   "metadata": {
    "pycharm": {
     "name": "#%%\n"
    }
   },
   "outputs": [
    {
     "data": {
      "text/plain": [
       "<AxesSubplot:title={'center':'Winners by surface'}, xlabel='name'>"
      ]
     },
     "execution_count": 59,
     "metadata": {},
     "output_type": "execute_result"
    },
    {
     "data": {
      "image/png": "[encoded data removed]",
      "text/plain": [
       "<Figure size 432x288 with 1 Axes>"
      ]
     },
     "metadata": {
      "needs_background": "light"
     },
     "output_type": "display_data"
    }
   ],
   "source": [
    "df_bar.plot.bar(x='name', stacked=True, title='Winners by surface')"
   ]
  },
  {
   "cell_type": "code",
   "execution_count": 41,
   "id": "b2008f7b",
   "metadata": {
    "pycharm": {
     "name": "#%%\n"
    }
   },
   "outputs": [
    {
     "data": {
      "image/png": "[encoded data removed]",
      "text/plain": [
       "<Figure size 1008x504 with 1 Axes>"
      ]
     },
     "metadata": {
      "needs_background": "light"
     },
     "output_type": "display_data"
    }
   ],
   "source": [
    "df_b3 = df_gs.loc[df_gs['singles_winner_name'].isin(['Roger Federer', 'Rafael Nadal', 'Novak Djokovic'])]\n",
    "\n",
    "column_names = ['year', 'Roger Federer', 'Rafael Nadal', 'Novak Djokovic']\n",
    "df_f = pd.DataFrame(columns = column_names)\n",
    "\n",
    "win_f = 0\n",
    "win_n = 0\n",
    "win_d = 0\n",
    "\n",
    "for year in range(2003, 2018):\n",
    "    df_y = df_b3.loc[df_b3['tourney_year'] == year]\n",
    "    \n",
    "    win_f += (df_y['singles_winner_name']=='Roger Federer').sum()\n",
    "    win_n += (df_y['singles_winner_name']=='Rafael Nadal').sum()\n",
    "    win_d += (df_y['singles_winner_name']=='Novak Djokovic').sum()\n",
    "\n",
    "    df_f.loc[len(df_f.index)] = [year, win_f, win_n, win_d]\n",
    "\n",
    "plt.figure(figsize=(14,7))\n",
    "plt.yticks(range(0, 20))\n",
    "\n",
    "sns.lineplot(x = df_f.year, y = df_f['Roger Federer'], ci = None, color='red', linewidth=2)\n",
    "sns.lineplot(x = df_f.year, y = df_f['Rafael Nadal'], ci = None, color='blue', linewidth=2)\n",
    "sns.lineplot(x = df_f.year, y = df_f['Novak Djokovic'], ci = None, color='black', linewidth=2)\n",
    "\n",
    "plt.xlabel('Year', fontsize=13)\n",
    "plt.ylabel('Number of wins', fontsize=13)\n",
    "plt.legend(['Roger Federer', 'Rafael Nadal', 'Novak Djokovic'])\n",
    "plt.title('Grand Slam wins',fontsize=18);\n",
    "plt.show()"
   ]
  },
  {
   "cell_type": "code",
   "execution_count": 42,
   "id": "00fa6c8a",
   "metadata": {
    "pycharm": {
     "name": "#%%\n"
    }
   },
   "outputs": [
    {
     "data": {
      "image/png": "[encoded data removed]",
      "text/plain": [
       "<Figure size 1008x504 with 1 Axes>"
      ]
     },
     "metadata": {
      "needs_background": "light"
     },
     "output_type": "display_data"
    }
   ],
   "source": [
    "df_b3 = df.loc[df['singles_winner_name'].isin(['Roger Federer', 'Rafael Nadal', 'Novak Djokovic'])]\n",
    "\n",
    "column_names = ['year', 'Roger Federer', 'Rafael Nadal', 'Novak Djokovic']\n",
    "df_f = pd.DataFrame(columns = column_names)\n",
    "\n",
    "win_f = 0\n",
    "win_n = 0\n",
    "win_d = 0\n",
    "\n",
    "for year in range(2003, 2018):\n",
    "    df_y = df_b3.loc[df_b3['tourney_year'] == year]\n",
    "    \n",
    "    win_f += (df_y['singles_winner_name']=='Roger Federer').sum()\n",
    "    win_n += (df_y['singles_winner_name']=='Rafael Nadal').sum()\n",
    "    win_d += (df_y['singles_winner_name']=='Novak Djokovic').sum()\n",
    "\n",
    "    df_f.loc[len(df_f.index)] = [year, win_f, win_n, win_d]\n",
    "\n",
    "plt.figure(figsize=(14,7))\n",
    "\n",
    "sns.lineplot(x = df_f.year, y = df_f['Roger Federer'], ci = None, color='red', linewidth=2)\n",
    "sns.lineplot(x = df_f.year, y = df_f['Rafael Nadal'], ci = None, color='blue', linewidth=2)\n",
    "sns.lineplot(x = df_f.year, y = df_f['Novak Djokovic'], ci = None, color='black', linewidth=2)\n",
    "\n",
    "plt.xlabel('Year', fontsize=13)\n",
    "plt.ylabel('Number of wins', fontsize=13)\n",
    "plt.legend(['Roger Federer', 'Rafael Nadal', 'Novak Djokovic'])\n",
    "plt.title('All tournaments wins',fontsize=18);\n",
    "plt.show()"
   ]
  },
  {
   "cell_type": "code",
   "execution_count": 77,
   "id": "fb680b24",
   "metadata": {
    "pycharm": {
     "name": "#%%\n"
    }
   },
   "outputs": [
    {
     "data": {
      "image/png": "[encoded data removed]",
      "text/plain": [
       "<Figure size 432x288 with 1 Axes>"
      ]
     },
     "metadata": {
      "needs_background": "light"
     },
     "output_type": "display_data"
    }
   ],
   "source": [
    "#Clay surface champions\n",
    "df_clay = df.loc[df['tourney_surface'] == 'Clay']\n",
    "ax = df_clay.singles_winner_name.value_counts().head().plot(kind='barh')\n",
    "ax.invert_yaxis()"
   ]
  },
  {
   "cell_type": "code",
   "execution_count": 44,
   "id": "ecfbd31e",
   "metadata": {
    "pycharm": {
     "name": "#%%\n"
    }
   },
   "outputs": [
    {
     "data": {
      "image/png": "[encoded data removed]",
      "text/plain": [
       "<Figure size 432x288 with 1 Axes>"
      ]
     },
     "metadata": {
      "needs_background": "light"
     },
     "output_type": "display_data"
    }
   ],
   "source": [
    "#Grass surface champions\n",
    "df_grass = df.loc[df['tourney_surface'] == 'Grass']\n",
    "ax = df_grass.singles_winner_name.value_counts().head().plot(kind='barh')\n",
    "ax.invert_yaxis()"
   ]
  },
  {
   "cell_type": "code",
   "execution_count": 45,
   "id": "644904b0",
   "metadata": {
    "pycharm": {
     "name": "#%%\n"
    }
   },
   "outputs": [
    {
     "data": {
      "image/png": "[encoded data removed]",
      "text/plain": [
       "<Figure size 432x288 with 1 Axes>"
      ]
     },
     "metadata": {
      "needs_background": "light"
     },
     "output_type": "display_data"
    }
   ],
   "source": [
    "#Hard surface champions\n",
    "df_hard = df.loc[df['tourney_surface'] == 'Hard']\n",
    "ax = df_hard.singles_winner_name.value_counts().head().plot(kind='barh')\n",
    "ax.invert_yaxis()"
   ]
  },
  {
   "cell_type": "code",
   "execution_count": 46,
   "id": "75f804ac",
   "metadata": {
    "pycharm": {
     "name": "#%%\n"
    }
   },
   "outputs": [
    {
     "data": {
      "image/png": "[encoded data removed]",
      "text/plain": [
       "<Figure size 432x288 with 1 Axes>"
      ]
     },
     "metadata": {},
     "output_type": "display_data"
    }
   ],
   "source": [
    "#Indoor vs outdoor\n",
    "ax = df_hard.tourney_conditions.value_counts().head().plot(kind='pie')\n",
    "ax.invert_yaxis()"
   ]
  },
  {
   "cell_type": "code",
   "execution_count": null,
   "id": "4fecbf44",
   "metadata": {
    "pycharm": {
     "name": "#%%\n"
    }
   },
   "outputs": [],
   "source": []
  }
 ],
 "metadata": {
  "kernelspec": {
   "display_name": "Python 3 (ipykernel)",
   "language": "python",
   "name": "python3"
  },
  "language_info": {
   "codemirror_mode": {
    "name": "ipython",
    "version": 3
   },
   "file_extension": ".py",
   "mimetype": "text/x-python",
   "name": "python",
   "nbconvert_exporter": "python",
   "pygments_lexer": "ipython3",
   "version": "3.9.7"
  }
 },
 "nbformat": 4,
 "nbformat_minor": 5
}